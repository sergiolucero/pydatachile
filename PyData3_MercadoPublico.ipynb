{
  "nbformat": 4,
  "nbformat_minor": 0,
  "metadata": {
    "colab": {
      "name": "PyData3 MercadoPublico.ipynb",
      "provenance": [],
      "collapsed_sections": [],
      "authorship_tag": "ABX9TyMBe/2y5VSywEm/VgaS/cSN",
      "include_colab_link": true
    },
    "kernelspec": {
      "name": "python3",
      "display_name": "Python 3"
    }
  },
  "cells": [
    {
      "cell_type": "markdown",
      "metadata": {
        "id": "view-in-github",
        "colab_type": "text"
      },
      "source": [
        "<a href=\"https://colab.research.google.com/github/sergiolucero/pydatachile/blob/master/PyData3_MercadoPublico.ipynb\" target=\"_parent\"><img src=\"https://colab.research.google.com/assets/colab-badge.svg\" alt=\"Open In Colab\"/></a>"
      ]
    },
    {
      "cell_type": "markdown",
      "metadata": {
        "id": "LyHGJ-EUNcs5",
        "colab_type": "text"
      },
      "source": [
        "## PyData #3: Captura y Análisis de precios de insumos COVID19 con la API de ChileCompra.\n",
        "\n",
        "El primer paso es obtener una llave (TOKEN) en https://api.mercadopublico.cl/. Aquí en adelante asumimos que esta llave, que es personal, \n",
        "se encuentra almacenada en una variable de entorno llamada ID_MERCADO:"
      ]
    },
    {
      "cell_type": "code",
      "metadata": {
        "id": "wVhsGE9y_1Pi",
        "colab_type": "code",
        "outputId": "b2456085-e30d-41d9-d5b8-70ba0120657c",
        "colab": {
          "base_uri": "https://localhost:8080/",
          "height": 34
        }
      },
      "source": [
        "import os, requests\n",
        "import pandas as pd\n",
        "TOKEN = os.getenv('ID_MERCADO')\n",
        "# TOKEN = requests.get(token_url)\n",
        "BASE = 'http://api.mercadopublico.cl/servicios/v1/publico/'\n",
        "fecha = '01042020'    # formato DDMMYYYY... ¿por qué diablos?\n",
        "url = f'{BASE}/ordenesdecompra.json?fecha={fecha}&estado=aceptada&ticket={TOKEN}'   # \n",
        "#url = '%s/ordenesdecompra.json?fecha=%s&estado=aceptada&ticket=%s' %(BASE,fecha,TOKEN)  # %-formatting\n",
        "print(url)"
      ],
      "execution_count": 0,
      "outputs": [
        {
          "output_type": "stream",
          "text": [
            "http://api.mercadopublico.cl/servicios/v1/publico//ordenesdecompra.json?fecha=01042020&estado=aceptada&ticket=FA1D5A8D-A2CD-4204-9697-77EF124084A9\n"
          ],
          "name": "stdout"
        }
      ]
    },
    {
      "cell_type": "code",
      "metadata": {
        "id": "_NtTmI1okwMa",
        "colab_type": "code",
        "outputId": "b1a79140-92c6-44b3-bec1-e0cea5d2436e",
        "colab": {
          "base_uri": "https://localhost:8080/",
          "height": 52
        }
      },
      "source": [
        "resp = requests.get(url).json()\n",
        "print(len(resp))\n",
        "resp.keys()"
      ],
      "execution_count": 0,
      "outputs": [
        {
          "output_type": "stream",
          "text": [
            "4\n"
          ],
          "name": "stdout"
        },
        {
          "output_type": "execute_result",
          "data": {
            "text/plain": [
              "dict_keys(['Cantidad', 'FechaCreacion', 'Version', 'Listado'])"
            ]
          },
          "metadata": {
            "tags": []
          },
          "execution_count": 4
        }
      ]
    },
    {
      "cell_type": "code",
      "metadata": {
        "id": "1yr9lEQ8lKI2",
        "colab_type": "code",
        "outputId": "54abe967-d212-4a91-db19-acae3437be57",
        "colab": {
          "base_uri": "https://localhost:8080/",
          "height": 34
        }
      },
      "source": [
        "print('Cantidad:', resp['Cantidad'], 'Fecha:', resp['FechaCreacion'], \n",
        "      'Version:', resp['Version'])"
      ],
      "execution_count": 0,
      "outputs": [
        {
          "output_type": "stream",
          "text": [
            "Cantidad: 4387 Fecha: 2020-04-22T17:41:07.7 Version: v1\n"
          ],
          "name": "stdout"
        }
      ]
    },
    {
      "cell_type": "code",
      "metadata": {
        "id": "OoAv6Ba0lg79",
        "colab_type": "code",
        "outputId": "faea55ad-8ee9-405b-aa2f-71725d6e2412",
        "colab": {
          "base_uri": "https://localhost:8080/",
          "height": 86
        }
      },
      "source": [
        "ocs = resp['Listado']\n",
        "print(fecha,'tiene',len(ocs),'OCs')\n",
        "ocs[3300]"
      ],
      "execution_count": 27,
      "outputs": [
        {
          "output_type": "stream",
          "text": [
            "30032020 tiene 4387 OCs\n"
          ],
          "name": "stdout"
        },
        {
          "output_type": "execute_result",
          "data": {
            "text/plain": [
              "{'Codigo': '3950-321-SE20',\n",
              " 'CodigoEstado': 6,\n",
              " 'Nombre': 'ADQUISICIÓN DE FÁRMACO SEGÚN CONV. SUMINISTRO SSA.'}"
            ]
          },
          "metadata": {
            "tags": []
          },
          "execution_count": 27
        }
      ]
    },
    {
      "cell_type": "code",
      "metadata": {
        "id": "7GEuXieHl3cc",
        "colab_type": "code",
        "outputId": "7fac577a-e2f3-4170-9a1a-d8e861f21398",
        "colab": {
          "base_uri": "https://localhost:8080/",
          "height": 202
        }
      },
      "source": [
        "# Usemos pandas para formatear de inmediato esta data\n",
        "pd.set_option('max_colwidth', None)    # por defecto, 50 caracteres\n",
        "ordenes_dia = pd.DataFrame(ocs)\n",
        "ordenes_dia.Nombre = ordenes_dia.Nombre.apply(lambda n: n.lower())\n",
        "ordenes_dia.tail()"
      ],
      "execution_count": 28,
      "outputs": [
        {
          "output_type": "execute_result",
          "data": {
            "text/html": [
              "<div>\n",
              "<style scoped>\n",
              "    .dataframe tbody tr th:only-of-type {\n",
              "        vertical-align: middle;\n",
              "    }\n",
              "\n",
              "    .dataframe tbody tr th {\n",
              "        vertical-align: top;\n",
              "    }\n",
              "\n",
              "    .dataframe thead th {\n",
              "        text-align: right;\n",
              "    }\n",
              "</style>\n",
              "<table border=\"1\" class=\"dataframe\">\n",
              "  <thead>\n",
              "    <tr style=\"text-align: right;\">\n",
              "      <th></th>\n",
              "      <th>Codigo</th>\n",
              "      <th>Nombre</th>\n",
              "      <th>CodigoEstado</th>\n",
              "    </tr>\n",
              "  </thead>\n",
              "  <tbody>\n",
              "    <tr>\n",
              "      <th>4382</th>\n",
              "      <td>905-76-CM20</td>\n",
              "      <td>santa cruz sc 14 /2020 no pac mantencion camioneta jfsl44</td>\n",
              "      <td>6</td>\n",
              "    </tr>\n",
              "    <tr>\n",
              "      <th>4383</th>\n",
              "      <td>938614-299-SE20</td>\n",
              "      <td>vme-epr servicio de aseo y mantencion de jardines</td>\n",
              "      <td>6</td>\n",
              "    </tr>\n",
              "    <tr>\n",
              "      <th>4384</th>\n",
              "      <td>948354-166-SE20</td>\n",
              "      <td>serv. retiro residuos especiales y peligrosos del hospital dipreca</td>\n",
              "      <td>6</td>\n",
              "    </tr>\n",
              "    <tr>\n",
              "      <th>4385</th>\n",
              "      <td>958433-11-SE20</td>\n",
              "      <td>anodos mtu</td>\n",
              "      <td>6</td>\n",
              "    </tr>\n",
              "    <tr>\n",
              "      <th>4386</th>\n",
              "      <td>999-28-SE20</td>\n",
              "      <td>servicio de aseo dpv concepción</td>\n",
              "      <td>6</td>\n",
              "    </tr>\n",
              "  </tbody>\n",
              "</table>\n",
              "</div>"
            ],
            "text/plain": [
              "               Codigo  ... CodigoEstado\n",
              "4382      905-76-CM20  ...            6\n",
              "4383  938614-299-SE20  ...            6\n",
              "4384  948354-166-SE20  ...            6\n",
              "4385   958433-11-SE20  ...            6\n",
              "4386      999-28-SE20  ...            6\n",
              "\n",
              "[5 rows x 3 columns]"
            ]
          },
          "metadata": {
            "tags": []
          },
          "execution_count": 28
        }
      ]
    },
    {
      "cell_type": "markdown",
      "metadata": {
        "id": "CinK073Amgq9",
        "colab_type": "text"
      },
      "source": [
        "Acá sólo tenemos un Codigo que corresponde al identificador de la orden de compra, y un descriptor de la compra. \n",
        "Necesitamos ocupar la otra API para obtener el detalle profundo. Como vamos a ocupar a menudo estas lógicas, las metemos en funciones de Python."
      ]
    },
    {
      "cell_type": "code",
      "metadata": {
        "id": "MW1cYPabl_jV",
        "colab_type": "code",
        "colab": {}
      },
      "source": [
        "WAIT = 2  # segundos de respiro\n",
        "\n",
        "def get_OC(oc):  # info detallada de una orden de compra\n",
        "    BASE = 'http://api.mercadopublico.cl/servicios/v1/publico/'\n",
        "    url = f'{BASE}ordenesdecompra.json?codigo={oc}&ticket={TOKEN}'\n",
        "    js = requests.get(url).json()['Listado']\n",
        "    return js\n",
        "\n",
        "def get_detalle(df):  # info detallada de una lista de ordenes de compra\n",
        "    pdf = pd.DataFrame()\n",
        "    for oc in df.Codigo:\n",
        "        print(oc, end=',')\n",
        "        c0 = pd.DataFrame(get_OC(oc))\n",
        "        pdf = pdf.append(c0)\n",
        "        time.sleep(WAIT)   # importante darle un respiro a la API\n",
        "    return pdf\n",
        "\n",
        "def get_producto(producto, fecha):       # descargamos sólo ciertos productos\n",
        "    BASE = 'http://api.mercadopublico.cl/servicios/v1/publico//ordenesdecompra.json'\n",
        "    url = '%s?fecha=%s&estado=aceptada&ticket=%s' %(BASE,fecha,TOKEN)  # f-string\n",
        "    print(url)\n",
        "    js = requests.get(url).json()['Listado']   # todas las OCs del día\n",
        "    js = [j for j in js if producto in j['Nombre']]  # list comprehension!!!\n",
        "    print(f'{len(js)} órdenes de compra de <{producto}> el dia {fecha}')\n",
        "\n",
        "    return pd.DataFrame(js)\n",
        "    "
      ],
      "execution_count": 0,
      "outputs": []
    },
    {
      "cell_type": "markdown",
      "metadata": {
        "id": "4CTtQdl4nOad",
        "colab_type": "text"
      },
      "source": [
        "Las órdenes de compra (sin detalle) están en la columna Codigo de la variable ordenes_dia."
      ]
    },
    {
      "cell_type": "code",
      "metadata": {
        "id": "3oYT2tHhm5JK",
        "colab_type": "code",
        "outputId": "078ac0cd-4478-48a6-b7d2-022f09b1b4ec",
        "colab": {
          "base_uri": "https://localhost:8080/",
          "height": 410
        }
      },
      "source": [
        "fdf = get_producto('alcohol gel','21042020')   # cuantas BOLSAs, mortuarias u de otro tipo, se compraron ese día\n",
        "fdf.head(10)"
      ],
      "execution_count": 31,
      "outputs": [
        {
          "output_type": "stream",
          "text": [
            "http://api.mercadopublico.cl/servicios/v1/publico//ordenesdecompra.json?fecha=21042020&estado=aceptada&ticket=FA1D5A8D-A2CD-4204-9697-77EF124084A9\n",
            "24 órdenes de compra de <alcohol gel> el dia 21042020\n"
          ],
          "name": "stdout"
        },
        {
          "output_type": "execute_result",
          "data": {
            "text/html": [
              "<div>\n",
              "<style scoped>\n",
              "    .dataframe tbody tr th:only-of-type {\n",
              "        vertical-align: middle;\n",
              "    }\n",
              "\n",
              "    .dataframe tbody tr th {\n",
              "        vertical-align: top;\n",
              "    }\n",
              "\n",
              "    .dataframe thead th {\n",
              "        text-align: right;\n",
              "    }\n",
              "</style>\n",
              "<table border=\"1\" class=\"dataframe\">\n",
              "  <thead>\n",
              "    <tr style=\"text-align: right;\">\n",
              "      <th></th>\n",
              "      <th>Codigo</th>\n",
              "      <th>Nombre</th>\n",
              "      <th>CodigoEstado</th>\n",
              "    </tr>\n",
              "  </thead>\n",
              "  <tbody>\n",
              "    <tr>\n",
              "      <th>0</th>\n",
              "      <td>1002584-143-AG20</td>\n",
              "      <td>Compra de Alcohol Gel y Dispensadores</td>\n",
              "      <td>6</td>\n",
              "    </tr>\n",
              "    <tr>\n",
              "      <th>1</th>\n",
              "      <td>1051765-623-CM20</td>\n",
              "      <td>ADQUISICIÓN ALCOHOL GEL, ÁREA SALUD</td>\n",
              "      <td>6</td>\n",
              "    </tr>\n",
              "    <tr>\n",
              "      <th>2</th>\n",
              "      <td>1718-423-AG20</td>\n",
              "      <td>M.6916 200 LITROS ALCOHOL GEL</td>\n",
              "      <td>6</td>\n",
              "    </tr>\n",
              "    <tr>\n",
              "      <th>3</th>\n",
              "      <td>2207-391-SE20</td>\n",
              "      <td>ADQUISICIÓN ALCOHOL GEL POR CONTINGENCIA</td>\n",
              "      <td>6</td>\n",
              "    </tr>\n",
              "    <tr>\n",
              "      <th>4</th>\n",
              "      <td>1979-1649-SE20</td>\n",
              "      <td>TD URGENCIA ALCOHOL GEL</td>\n",
              "      <td>6</td>\n",
              "    </tr>\n",
              "    <tr>\n",
              "      <th>5</th>\n",
              "      <td>2065-245-SE20</td>\n",
              "      <td>TD \" ALCOHOL GEL DE 340 ML \"</td>\n",
              "      <td>6</td>\n",
              "    </tr>\n",
              "    <tr>\n",
              "      <th>6</th>\n",
              "      <td>2085-353-CM20</td>\n",
              "      <td>COMPRA ( ALCOHOL GEL )</td>\n",
              "      <td>6</td>\n",
              "    </tr>\n",
              "    <tr>\n",
              "      <th>7</th>\n",
              "      <td>1994-69-SE20</td>\n",
              "      <td>mascarillas y alcohol gel - gobernacion</td>\n",
              "      <td>6</td>\n",
              "    </tr>\n",
              "    <tr>\n",
              "      <th>8</th>\n",
              "      <td>2483-260-SE20</td>\n",
              "      <td>ADQUISICIÓN DE ALCOHOL GEL, CLORO Y JABÓN LÍQUIDO</td>\n",
              "      <td>6</td>\n",
              "    </tr>\n",
              "    <tr>\n",
              "      <th>9</th>\n",
              "      <td>2363-39-SE20</td>\n",
              "      <td>ALCOHOL GEL</td>\n",
              "      <td>6</td>\n",
              "    </tr>\n",
              "  </tbody>\n",
              "</table>\n",
              "</div>"
            ],
            "text/plain": [
              "             Codigo  ... CodigoEstado\n",
              "0  1002584-143-AG20  ...            6\n",
              "1  1051765-623-CM20  ...            6\n",
              "2     1718-423-AG20  ...            6\n",
              "3     2207-391-SE20  ...            6\n",
              "4    1979-1649-SE20  ...            6\n",
              "5     2065-245-SE20  ...            6\n",
              "6     2085-353-CM20  ...            6\n",
              "7      1994-69-SE20  ...            6\n",
              "8     2483-260-SE20  ...            6\n",
              "9      2363-39-SE20  ...            6\n",
              "\n",
              "[10 rows x 3 columns]"
            ]
          },
          "metadata": {
            "tags": []
          },
          "execution_count": 31
        }
      ]
    },
    {
      "cell_type": "markdown",
      "metadata": {
        "id": "Qz495dAPnX07",
        "colab_type": "text"
      },
      "source": [
        "Finalmente, recopilamos la información de todo un mes. Primero sería bueno estimar el tamaño de lo que vamos a ejecutar y quizás calentar el agua del café."
      ]
    },
    {
      "cell_type": "code",
      "metadata": {
        "id": "D5rN25iZ4R1G",
        "colab_type": "code",
        "outputId": "0618b82e-3a19-4b2a-99a8-0a170d9ec530",
        "colab": {
          "base_uri": "https://localhost:8080/",
          "height": 1000
        }
      },
      "source": [
        "camillas = pd.DataFrame()\n",
        "\n",
        "for dia in range(1,32):\n",
        "  fecha = '%02d032020' %dia\n",
        "  try:    # sugiero try except \n",
        "    fdf = get_producto('camilla',fecha)   # la data del dia\n",
        "  except:\n",
        "    pass\n",
        "  print(fecha, len(fdf), end=':')\n",
        "  fdf['fecha'] = fecha\n",
        "  camillas = camillas.append(fdf)\n"
      ],
      "execution_count": 32,
      "outputs": [
        {
          "output_type": "stream",
          "text": [
            "http://api.mercadopublico.cl/servicios/v1/publico//ordenesdecompra.json?fecha=03032020&estado=aceptada&ticket=FA1D5A8D-A2CD-4204-9697-77EF124084A9\n",
            "1 órdenes de compra de <camilla> el dia 03032020\n",
            "03032020 1:http://api.mercadopublico.cl/servicios/v1/publico//ordenesdecompra.json?fecha=04032020&estado=aceptada&ticket=FA1D5A8D-A2CD-4204-9697-77EF124084A9\n",
            "0 órdenes de compra de <camilla> el dia 04032020\n",
            "04032020 0:http://api.mercadopublico.cl/servicios/v1/publico//ordenesdecompra.json?fecha=05032020&estado=aceptada&ticket=FA1D5A8D-A2CD-4204-9697-77EF124084A9\n",
            "1 órdenes de compra de <camilla> el dia 05032020\n",
            "05032020 1:http://api.mercadopublico.cl/servicios/v1/publico//ordenesdecompra.json?fecha=06032020&estado=aceptada&ticket=FA1D5A8D-A2CD-4204-9697-77EF124084A9\n",
            "2 órdenes de compra de <camilla> el dia 06032020\n",
            "06032020 2:http://api.mercadopublico.cl/servicios/v1/publico//ordenesdecompra.json?fecha=07032020&estado=aceptada&ticket=FA1D5A8D-A2CD-4204-9697-77EF124084A9\n",
            "0 órdenes de compra de <camilla> el dia 07032020\n",
            "07032020 0:http://api.mercadopublico.cl/servicios/v1/publico//ordenesdecompra.json?fecha=08032020&estado=aceptada&ticket=FA1D5A8D-A2CD-4204-9697-77EF124084A9\n",
            "08032020 0:http://api.mercadopublico.cl/servicios/v1/publico//ordenesdecompra.json?fecha=09032020&estado=aceptada&ticket=FA1D5A8D-A2CD-4204-9697-77EF124084A9\n",
            "1 órdenes de compra de <camilla> el dia 09032020\n",
            "09032020 1:http://api.mercadopublico.cl/servicios/v1/publico//ordenesdecompra.json?fecha=10032020&estado=aceptada&ticket=FA1D5A8D-A2CD-4204-9697-77EF124084A9\n",
            "1 órdenes de compra de <camilla> el dia 10032020\n",
            "10032020 1:http://api.mercadopublico.cl/servicios/v1/publico//ordenesdecompra.json?fecha=11032020&estado=aceptada&ticket=FA1D5A8D-A2CD-4204-9697-77EF124084A9\n",
            "1 órdenes de compra de <camilla> el dia 11032020\n",
            "11032020 1:http://api.mercadopublico.cl/servicios/v1/publico//ordenesdecompra.json?fecha=12032020&estado=aceptada&ticket=FA1D5A8D-A2CD-4204-9697-77EF124084A9\n",
            "1 órdenes de compra de <camilla> el dia 12032020\n",
            "12032020 1:http://api.mercadopublico.cl/servicios/v1/publico//ordenesdecompra.json?fecha=13032020&estado=aceptada&ticket=FA1D5A8D-A2CD-4204-9697-77EF124084A9\n",
            "1 órdenes de compra de <camilla> el dia 13032020\n",
            "13032020 1:http://api.mercadopublico.cl/servicios/v1/publico//ordenesdecompra.json?fecha=14032020&estado=aceptada&ticket=FA1D5A8D-A2CD-4204-9697-77EF124084A9\n",
            "0 órdenes de compra de <camilla> el dia 14032020\n",
            "14032020 0:http://api.mercadopublico.cl/servicios/v1/publico//ordenesdecompra.json?fecha=15032020&estado=aceptada&ticket=FA1D5A8D-A2CD-4204-9697-77EF124084A9\n",
            "15032020 0:http://api.mercadopublico.cl/servicios/v1/publico//ordenesdecompra.json?fecha=16032020&estado=aceptada&ticket=FA1D5A8D-A2CD-4204-9697-77EF124084A9\n",
            "0 órdenes de compra de <camilla> el dia 16032020\n",
            "16032020 0:http://api.mercadopublico.cl/servicios/v1/publico//ordenesdecompra.json?fecha=17032020&estado=aceptada&ticket=FA1D5A8D-A2CD-4204-9697-77EF124084A9\n",
            "6 órdenes de compra de <camilla> el dia 17032020\n",
            "17032020 6:http://api.mercadopublico.cl/servicios/v1/publico//ordenesdecompra.json?fecha=18032020&estado=aceptada&ticket=FA1D5A8D-A2CD-4204-9697-77EF124084A9\n",
            "6 órdenes de compra de <camilla> el dia 18032020\n",
            "18032020 6:http://api.mercadopublico.cl/servicios/v1/publico//ordenesdecompra.json?fecha=19032020&estado=aceptada&ticket=FA1D5A8D-A2CD-4204-9697-77EF124084A9\n",
            "2 órdenes de compra de <camilla> el dia 19032020\n",
            "19032020 2:http://api.mercadopublico.cl/servicios/v1/publico//ordenesdecompra.json?fecha=20032020&estado=aceptada&ticket=FA1D5A8D-A2CD-4204-9697-77EF124084A9\n",
            "3 órdenes de compra de <camilla> el dia 20032020\n",
            "20032020 3:http://api.mercadopublico.cl/servicios/v1/publico//ordenesdecompra.json?fecha=21032020&estado=aceptada&ticket=FA1D5A8D-A2CD-4204-9697-77EF124084A9\n",
            "0 órdenes de compra de <camilla> el dia 21032020\n",
            "21032020 0:http://api.mercadopublico.cl/servicios/v1/publico//ordenesdecompra.json?fecha=22032020&estado=aceptada&ticket=FA1D5A8D-A2CD-4204-9697-77EF124084A9\n",
            "22032020 0:http://api.mercadopublico.cl/servicios/v1/publico//ordenesdecompra.json?fecha=23032020&estado=aceptada&ticket=FA1D5A8D-A2CD-4204-9697-77EF124084A9\n",
            "3 órdenes de compra de <camilla> el dia 23032020\n",
            "23032020 3:http://api.mercadopublico.cl/servicios/v1/publico//ordenesdecompra.json?fecha=24032020&estado=aceptada&ticket=FA1D5A8D-A2CD-4204-9697-77EF124084A9\n",
            "1 órdenes de compra de <camilla> el dia 24032020\n",
            "24032020 1:http://api.mercadopublico.cl/servicios/v1/publico//ordenesdecompra.json?fecha=25032020&estado=aceptada&ticket=FA1D5A8D-A2CD-4204-9697-77EF124084A9\n",
            "2 órdenes de compra de <camilla> el dia 25032020\n",
            "25032020 2:http://api.mercadopublico.cl/servicios/v1/publico//ordenesdecompra.json?fecha=26032020&estado=aceptada&ticket=FA1D5A8D-A2CD-4204-9697-77EF124084A9\n",
            "4 órdenes de compra de <camilla> el dia 26032020\n",
            "26032020 4:http://api.mercadopublico.cl/servicios/v1/publico//ordenesdecompra.json?fecha=27032020&estado=aceptada&ticket=FA1D5A8D-A2CD-4204-9697-77EF124084A9\n",
            "3 órdenes de compra de <camilla> el dia 27032020\n",
            "27032020 3:http://api.mercadopublico.cl/servicios/v1/publico//ordenesdecompra.json?fecha=28032020&estado=aceptada&ticket=FA1D5A8D-A2CD-4204-9697-77EF124084A9\n",
            "0 órdenes de compra de <camilla> el dia 28032020\n",
            "28032020 0:http://api.mercadopublico.cl/servicios/v1/publico//ordenesdecompra.json?fecha=29032020&estado=aceptada&ticket=FA1D5A8D-A2CD-4204-9697-77EF124084A9\n",
            "29032020 0:http://api.mercadopublico.cl/servicios/v1/publico//ordenesdecompra.json?fecha=30032020&estado=aceptada&ticket=FA1D5A8D-A2CD-4204-9697-77EF124084A9\n",
            "30032020 0:"
          ],
          "name": "stdout"
        },
        {
          "output_type": "execute_result",
          "data": {
            "text/plain": [
              "18032020    6\n",
              "17032020    6\n",
              "26032020    4\n",
              "20032020    3\n",
              "23032020    3\n",
              "27032020    3\n",
              "06032020    2\n",
              "25032020    2\n",
              "19032020    2\n",
              "12032020    1\n",
              "Name: fecha, dtype: int64"
            ]
          },
          "metadata": {
            "tags": []
          },
          "execution_count": 32
        }
      ]
    },
    {
      "cell_type": "markdown",
      "metadata": {
        "id": "-CX0Tv0bKmcX",
        "colab_type": "text"
      },
      "source": [
        "Analicemos el precio de camillas por segmento."
      ]
    },
    {
      "cell_type": "code",
      "metadata": {
        "id": "5441ktKiKmuJ",
        "colab_type": "code",
        "colab": {
          "base_uri": "https://localhost:8080/",
          "height": 121
        },
        "outputId": "23b5a34b-c179-47fa-c152-7e2d48524a82"
      },
      "source": [
        "def segmento_camillas(nom):\n",
        "  if 'camilla rescate' in nom.lower():    return 'rescate'\n",
        "  elif 'ginecologica' in nom.lower():    return 'ginecologica'\n",
        "  elif 'transporte' in nom.lower():    return 'transporte'\n",
        "  elif 'inmovilizadora' in nom.lower():    return 'inmovilizadora'\n",
        "  else:\n",
        "    return 'N/A'\n",
        "\n",
        "camillas['segmento'] = camillas.Nombre.apply(segmento_camillas)\n",
        "camillas.segmento.value_counts(normalize=True).head(5)"
      ],
      "execution_count": 42,
      "outputs": [
        {
          "output_type": "execute_result",
          "data": {
            "text/plain": [
              "N/A               0.820513\n",
              "transporte        0.076923\n",
              "ginecologica      0.051282\n",
              "rescate           0.025641\n",
              "inmovilizadora    0.025641\n",
              "Name: segmento, dtype: float64"
            ]
          },
          "metadata": {
            "tags": []
          },
          "execution_count": 42
        }
      ]
    },
    {
      "cell_type": "code",
      "metadata": {
        "id": "xsjToMcHLmeL",
        "colab_type": "code",
        "colab": {}
      },
      "source": [
        "camillas.groupby('segmento').agg()"
      ],
      "execution_count": 0,
      "outputs": []
    },
    {
      "cell_type": "code",
      "metadata": {
        "id": "sSHvdKWYGLdQ",
        "colab_type": "code",
        "colab": {
          "base_uri": "https://localhost:8080/",
          "height": 208
        },
        "outputId": "e0be92b4-ec09-43e5-93df-8948042bb64a"
      },
      "source": [
        "camillas.fecha.value_counts().head(10)"
      ],
      "execution_count": 33,
      "outputs": [
        {
          "output_type": "execute_result",
          "data": {
            "text/plain": [
              "18032020    6\n",
              "17032020    6\n",
              "26032020    4\n",
              "20032020    3\n",
              "23032020    3\n",
              "27032020    3\n",
              "06032020    2\n",
              "25032020    2\n",
              "19032020    2\n",
              "12032020    1\n",
              "Name: fecha, dtype: int64"
            ]
          },
          "metadata": {
            "tags": []
          },
          "execution_count": 33
        }
      ]
    },
    {
      "cell_type": "code",
      "metadata": {
        "id": "_TES8-8wnhmR",
        "colab_type": "code",
        "outputId": "e31f228c-6141-4aa3-d88b-5d4b05de3274",
        "colab": {
          "base_uri": "https://localhost:8080/",
          "height": 34
        }
      },
      "source": [
        "#\"POLEMICA\"\n",
        "OC = '1082417-18-CM20'\n",
        "js = requests.get('http://api.mercadopublico.cl/servicios/v1/publico/ordenesdecompra.json?codigo={OC}&ticket={TOKEN}').json()\n",
        "js.keys()"
      ],
      "execution_count": 34,
      "outputs": [
        {
          "output_type": "execute_result",
          "data": {
            "text/plain": [
              "dict_keys(['Message'])"
            ]
          },
          "metadata": {
            "tags": []
          },
          "execution_count": 34
        }
      ]
    },
    {
      "cell_type": "code",
      "metadata": {
        "id": "65cXOQ_8tKxb",
        "colab_type": "code",
        "outputId": "bd88fff7-1a6b-4193-967d-623d3d8c4273",
        "colab": {
          "base_uri": "https://localhost:8080/",
          "height": 1000
        }
      },
      "source": [
        "pd.DataFrame(js['Listado']).T"
      ],
      "execution_count": 0,
      "outputs": [
        {
          "output_type": "execute_result",
          "data": {
            "text/html": [
              "<div>\n",
              "<style scoped>\n",
              "    .dataframe tbody tr th:only-of-type {\n",
              "        vertical-align: middle;\n",
              "    }\n",
              "\n",
              "    .dataframe tbody tr th {\n",
              "        vertical-align: top;\n",
              "    }\n",
              "\n",
              "    .dataframe thead th {\n",
              "        text-align: right;\n",
              "    }\n",
              "</style>\n",
              "<table border=\"1\" class=\"dataframe\">\n",
              "  <thead>\n",
              "    <tr style=\"text-align: right;\">\n",
              "      <th></th>\n",
              "      <th>0</th>\n",
              "    </tr>\n",
              "  </thead>\n",
              "  <tbody>\n",
              "    <tr>\n",
              "      <th>Codigo</th>\n",
              "      <td>1082417-18-CM20</td>\n",
              "    </tr>\n",
              "    <tr>\n",
              "      <th>Nombre</th>\n",
              "      <td>CORONAVIRUS. Adquisición de equipos médicos por alerta sanitaria</td>\n",
              "    </tr>\n",
              "    <tr>\n",
              "      <th>CodigoEstado</th>\n",
              "      <td>6</td>\n",
              "    </tr>\n",
              "    <tr>\n",
              "      <th>Estado</th>\n",
              "      <td>Aceptada</td>\n",
              "    </tr>\n",
              "    <tr>\n",
              "      <th>CodigoLicitacion</th>\n",
              "      <td></td>\n",
              "    </tr>\n",
              "    <tr>\n",
              "      <th>Descripcion</th>\n",
              "      <td>CORONAVIRUS. Adquisición de equipos médicos por alerta sanitaria. Catre clínico, incluye mesa de comer y velador</td>\n",
              "    </tr>\n",
              "    <tr>\n",
              "      <th>CodigoTipo</th>\n",
              "      <td>9</td>\n",
              "    </tr>\n",
              "    <tr>\n",
              "      <th>Tipo</th>\n",
              "      <td>CM</td>\n",
              "    </tr>\n",
              "    <tr>\n",
              "      <th>TipoMoneda</th>\n",
              "      <td>CLP</td>\n",
              "    </tr>\n",
              "    <tr>\n",
              "      <th>CodigoEstadoProveedor</th>\n",
              "      <td>4</td>\n",
              "    </tr>\n",
              "    <tr>\n",
              "      <th>EstadoProveedor</th>\n",
              "      <td>Aceptada</td>\n",
              "    </tr>\n",
              "    <tr>\n",
              "      <th>Fechas</th>\n",
              "      <td>{'FechaCreacion': '2020-03-16T18:36:38.663', 'FechaEnvio': '2020-03-16T18:40:30.117', 'FechaAceptacion': '2020-03-16T18:44:26.38', 'FechaCancelacion': None, 'FechaUltimaModificacion': '2020-03-16T18:40:00'}</td>\n",
              "    </tr>\n",
              "    <tr>\n",
              "      <th>TieneItems</th>\n",
              "      <td>1</td>\n",
              "    </tr>\n",
              "    <tr>\n",
              "      <th>PromedioCalificacion</th>\n",
              "      <td>3.51429</td>\n",
              "    </tr>\n",
              "    <tr>\n",
              "      <th>CantidadEvaluacion</th>\n",
              "      <td>7</td>\n",
              "    </tr>\n",
              "    <tr>\n",
              "      <th>Descuentos</th>\n",
              "      <td>0</td>\n",
              "    </tr>\n",
              "    <tr>\n",
              "      <th>Cargos</th>\n",
              "      <td>0</td>\n",
              "    </tr>\n",
              "    <tr>\n",
              "      <th>TotalNeto</th>\n",
              "      <td>1.59285e+09</td>\n",
              "    </tr>\n",
              "    <tr>\n",
              "      <th>PorcentajeIva</th>\n",
              "      <td>19</td>\n",
              "    </tr>\n",
              "    <tr>\n",
              "      <th>Impuestos</th>\n",
              "      <td>3.02642e+08</td>\n",
              "    </tr>\n",
              "    <tr>\n",
              "      <th>Total</th>\n",
              "      <td>1.89549e+09</td>\n",
              "    </tr>\n",
              "    <tr>\n",
              "      <th>Financiamiento</th>\n",
              "      <td></td>\n",
              "    </tr>\n",
              "    <tr>\n",
              "      <th>Pais</th>\n",
              "      <td>CL</td>\n",
              "    </tr>\n",
              "    <tr>\n",
              "      <th>TipoDespacho</th>\n",
              "      <td>22</td>\n",
              "    </tr>\n",
              "    <tr>\n",
              "      <th>FormaPago</th>\n",
              "      <td>2</td>\n",
              "    </tr>\n",
              "    <tr>\n",
              "      <th>Comprador</th>\n",
              "      <td>{'CodigoOrganismo': '7079', 'NombreOrganismo': 'Subsecretaría de Salud Pública', 'RutUnidad': '61.975.700-9', 'CodigoUnidad': '1082417', 'NombreUnidad': 'Adm de Fondos o Fondos Extrapresupuestarios Redes', 'Actividad': 'Subsecretaría de Redes Asistenciales', 'DireccionUnidad': 'Mac Iver 541', 'ComunaUnidad': 'Santiago Centro', 'RegionUnidad': 'Región Metropolitana de Santiago', 'Pais': 'CL', 'NombreContacto': 'Francisco Celedón Fuenzalida', 'CargoContacto': '', 'FonoContacto': '56-02-25740249', 'MailContacto': 'fceledon@minsal.cl'}</td>\n",
              "    </tr>\n",
              "    <tr>\n",
              "      <th>Proveedor</th>\n",
              "      <td>{'Codigo': '21582', 'Nombre': 'STRYKER CORPORATION CHILE Y COMPANIA Ltda', 'Actividad': 'VENTA AL POR MAYOR DE OTROS PRODUCTOS N.C.P.| VENT', 'CodigoSucursal': '21011', 'NombreSucursal': 'STRYKER CORPORATION CHILE Y COMPANIA LIMITADA', 'RutSucursal': '78.874.470-6', 'Direccion': 'LOS CONQUISTADORES 2743 PISO 3', 'Comuna': 'Providencia', 'Region': 'Región Metropolitana de Santiago', 'Pais': 'CL', 'NombreContacto': 'Daniela  Quiroz Opazo', 'CargoContacto': 'Customer Service Control', 'FonoContacto': '56-2-27512136', 'MailContacto': 'daniela.quiroz@stryker.com'}</td>\n",
              "    </tr>\n",
              "    <tr>\n",
              "      <th>Items</th>\n",
              "      <td>{'Cantidad': 1, 'Listado': [{'Correlativo': 1, 'CodigoCategoria': 42192200, 'Categoria': 'Equipamiento y suministros médicos / Equipamiento para instalaciones médicas / Artículos para transporte de paciente', 'CodigoProducto': 42192207, 'Producto': 'Camillas de paciente o accesorios de camilla', 'EspecificacionComprador': '(1521098 )CATRE CLÍNICO ELÉCTRICO STRYKER SV2 75X99X220 1523099', 'EspecificacionProveedor': '(1521098) CATRE CLÍNICO ELÉCTRICO STRYKER SV2 75X99X220; Código: 7500000300; Región: RM; Monto por unidad a pagar por despacho: $0', 'Cantidad': 820.0, 'Unidad': None, 'Moneda': 'CLP', 'PrecioNeto': 1942500.0, 'TotalCargos': 0.0, 'TotalDescuentos': 0.0, 'TotalImpuestos': 0.0, 'Total': 1592850000.0}]}</td>\n",
              "    </tr>\n",
              "  </tbody>\n",
              "</table>\n",
              "</div>"
            ],
            "text/plain": [
              "                                                                                                                                                                                                                                                                                                                                                                                                                                                                                                                                                                                                                                                                                                                                                                      0\n",
              "Codigo                                                                                                                                                                                                                                                                                                                                                                                                                                                                                                                                                                                                                                                                                                                                                  1082417-18-CM20\n",
              "Nombre                                                                                                                                                                                                                                                                                                                                                                                                                                                                                                                                                                                                                                                                                                CORONAVIRUS. Adquisición de equipos médicos por alerta sanitaria \n",
              "CodigoEstado                                                                                                                                                                                                                                                                                                                                                                                                                                                                                                                                                                                                                                                                                                                                                          6\n",
              "Estado                                                                                                                                                                                                                                                                                                                                                                                                                                                                                                                                                                                                                                                                                                                                                         Aceptada\n",
              "CodigoLicitacion                                                                                                                                                                                                                                                                                                                                                                                                                                                                                                                                                                                                                                                                                                                                                       \n",
              "Descripcion                                                                                                                                                                                                                                                                                                                                                                                                                                                                                                                                                                                                                                            CORONAVIRUS. Adquisición de equipos médicos por alerta sanitaria. Catre clínico, incluye mesa de comer y velador\n",
              "CodigoTipo                                                                                                                                                                                                                                                                                                                                                                                                                                                                                                                                                                                                                                                                                                                                                            9\n",
              "Tipo                                                                                                                                                                                                                                                                                                                                                                                                                                                                                                                                                                                                                                                                                                                                                                 CM\n",
              "TipoMoneda                                                                                                                                                                                                                                                                                                                                                                                                                                                                                                                                                                                                                                                                                                                                                          CLP\n",
              "CodigoEstadoProveedor                                                                                                                                                                                                                                                                                                                                                                                                                                                                                                                                                                                                                                                                                                                                                 4\n",
              "EstadoProveedor                                                                                                                                                                                                                                                                                                                                                                                                                                                                                                                                                                                                                                                                                                                                                Aceptada\n",
              "Fechas                                                                                                                                                                                                                                                                                                                                                                                                                                                                                                                                                   {'FechaCreacion': '2020-03-16T18:36:38.663', 'FechaEnvio': '2020-03-16T18:40:30.117', 'FechaAceptacion': '2020-03-16T18:44:26.38', 'FechaCancelacion': None, 'FechaUltimaModificacion': '2020-03-16T18:40:00'}\n",
              "TieneItems                                                                                                                                                                                                                                                                                                                                                                                                                                                                                                                                                                                                                                                                                                                                                            1\n",
              "PromedioCalificacion                                                                                                                                                                                                                                                                                                                                                                                                                                                                                                                                                                                                                                                                                                                                            3.51429\n",
              "CantidadEvaluacion                                                                                                                                                                                                                                                                                                                                                                                                                                                                                                                                                                                                                                                                                                                                                    7\n",
              "Descuentos                                                                                                                                                                                                                                                                                                                                                                                                                                                                                                                                                                                                                                                                                                                                                            0\n",
              "Cargos                                                                                                                                                                                                                                                                                                                                                                                                                                                                                                                                                                                                                                                                                                                                                                0\n",
              "TotalNeto                                                                                                                                                                                                                                                                                                                                                                                                                                                                                                                                                                                                                                                                                                                                                   1.59285e+09\n",
              "PorcentajeIva                                                                                                                                                                                                                                                                                                                                                                                                                                                                                                                                                                                                                                                                                                                                                        19\n",
              "Impuestos                                                                                                                                                                                                                                                                                                                                                                                                                                                                                                                                                                                                                                                                                                                                                   3.02642e+08\n",
              "Total                                                                                                                                                                                                                                                                                                                                                                                                                                                                                                                                                                                                                                                                                                                                                       1.89549e+09\n",
              "Financiamiento                                                                                                                                                                                                                                                                                                                                                                                                                                                                                                                                                                                                                                                                                                                                                         \n",
              "Pais                                                                                                                                                                                                                                                                                                                                                                                                                                                                                                                                                                                                                                                                                                                                                                 CL\n",
              "TipoDespacho                                                                                                                                                                                                                                                                                                                                                                                                                                                                                                                                                                                                                                                                                                                                                         22\n",
              "FormaPago                                                                                                                                                                                                                                                                                                                                                                                                                                                                                                                                                                                                                                                                                                                                                             2\n",
              "Comprador                                                                                                                                                                                                     {'CodigoOrganismo': '7079', 'NombreOrganismo': 'Subsecretaría de Salud Pública', 'RutUnidad': '61.975.700-9', 'CodigoUnidad': '1082417', 'NombreUnidad': 'Adm de Fondos o Fondos Extrapresupuestarios Redes', 'Actividad': 'Subsecretaría de Redes Asistenciales', 'DireccionUnidad': 'Mac Iver 541', 'ComunaUnidad': 'Santiago Centro', 'RegionUnidad': 'Región Metropolitana de Santiago', 'Pais': 'CL', 'NombreContacto': 'Francisco Celedón Fuenzalida', 'CargoContacto': '', 'FonoContacto': '56-02-25740249', 'MailContacto': 'fceledon@minsal.cl'}\n",
              "Proveedor                                                                                                                                                                         {'Codigo': '21582', 'Nombre': 'STRYKER CORPORATION CHILE Y COMPANIA Ltda', 'Actividad': 'VENTA AL POR MAYOR DE OTROS PRODUCTOS N.C.P.| VENT', 'CodigoSucursal': '21011', 'NombreSucursal': 'STRYKER CORPORATION CHILE Y COMPANIA LIMITADA', 'RutSucursal': '78.874.470-6', 'Direccion': 'LOS CONQUISTADORES 2743 PISO 3', 'Comuna': 'Providencia', 'Region': 'Región Metropolitana de Santiago', 'Pais': 'CL', 'NombreContacto': 'Daniela  Quiroz Opazo', 'CargoContacto': 'Customer Service Control', 'FonoContacto': '56-2-27512136', 'MailContacto': 'daniela.quiroz@stryker.com'}\n",
              "Items                  {'Cantidad': 1, 'Listado': [{'Correlativo': 1, 'CodigoCategoria': 42192200, 'Categoria': 'Equipamiento y suministros médicos / Equipamiento para instalaciones médicas / Artículos para transporte de paciente', 'CodigoProducto': 42192207, 'Producto': 'Camillas de paciente o accesorios de camilla', 'EspecificacionComprador': '(1521098 )CATRE CLÍNICO ELÉCTRICO STRYKER SV2 75X99X220 1523099', 'EspecificacionProveedor': '(1521098) CATRE CLÍNICO ELÉCTRICO STRYKER SV2 75X99X220; Código: 7500000300; Región: RM; Monto por unidad a pagar por despacho: $0', 'Cantidad': 820.0, 'Unidad': None, 'Moneda': 'CLP', 'PrecioNeto': 1942500.0, 'TotalCargos': 0.0, 'TotalDescuentos': 0.0, 'TotalImpuestos': 0.0, 'Total': 1592850000.0}]}"
            ]
          },
          "metadata": {
            "tags": []
          },
          "execution_count": 25
        }
      ]
    },
    {
      "cell_type": "code",
      "metadata": {
        "id": "9GspiasTtMk_",
        "colab_type": "code",
        "colab": {}
      },
      "source": [
        ""
      ],
      "execution_count": 0,
      "outputs": []
    }
  ]
}